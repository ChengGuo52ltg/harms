{
 "cells": [
  {
   "cell_type": "code",
   "execution_count": 1,
   "metadata": {},
   "outputs": [
    {
     "name": "stdout",
     "output_type": "stream",
     "text": [
      "[Host:Host 0, Host:Host 1]\n",
      "Metrics                                       Values\n",
      "-----------------------------------------  ---------\n",
      "Number of hosts                             3\n",
      "Risk                                       20\n",
      "Cost                                        4\n",
      "Mean of attack path lengths                 1.5\n",
      "Mode of attack path lengths                 2\n",
      "Standard Deviation of attack path lengths   0.707107\n",
      "Shortest attack path length                 1\n",
      "Return on Attack                            5\n",
      "Density                                     0.5\n",
      "Probability of attack success               0.6\n"
     ]
    }
   ],
   "source": [
    "# 3 个 node 的情况\n",
    "# attacker tree 默认\n",
    "# attacker->node->target\n",
    "# attacker->target\n",
    "\n",
    "import harmat as hm\n",
    "\n",
    "h = hm.Harm()\n",
    "\n",
    "h.top_layer = hm.AttackGraph()\n",
    "\n",
    "hosts = [hm.Host(\"Host {}\".format(i)) for i in range(2)]\n",
    "print(hosts)\n",
    "\n",
    "for host in hosts:\n",
    "    host.lower_layer = hm.AttackTree()\n",
    "    vulnerability1 = hm.Vulnerability('CVE-0000', values = {\n",
    "        'risk' : 10,\n",
    "        'cost' : 4,\n",
    "        'probability' : 0.5,\n",
    "        'impact' : 12\n",
    "    })\n",
    "    vulnerability2 = hm.Vulnerability('CVE-0001', values = {\n",
    "        'risk' : 1,\n",
    "        'cost' : 5,\n",
    "        'probability' : 0.2,\n",
    "        'impact' : 2\n",
    "    })\n",
    "    host.lower_layer.basic_at([vulnerability1, vulnerability2])\n",
    "    \n",
    "attacker = hm.Attacker() \n",
    "\n",
    "h[0].add_edge(attacker, hosts[0]) \n",
    "h[0].add_edge(hosts[0], hosts[1])\n",
    "h[0].add_edge(attacker, hosts[1]) \n",
    "\n",
    "h[0].source = attacker\n",
    "h[0].target = hosts[1]\n",
    "\n",
    "h.flowup()\n",
    "\n",
    "hm.HarmSummary(h).show()"
   ]
  }
 ],
 "metadata": {
  "kernelspec": {
   "display_name": "Python 3",
   "language": "python",
   "name": "python3"
  },
  "language_info": {
   "codemirror_mode": {
    "name": "ipython",
    "version": 3
   },
   "file_extension": ".py",
   "mimetype": "text/x-python",
   "name": "python",
   "nbconvert_exporter": "python",
   "pygments_lexer": "ipython3",
   "version": "3.7.5"
  }
 },
 "nbformat": 4,
 "nbformat_minor": 2
}
