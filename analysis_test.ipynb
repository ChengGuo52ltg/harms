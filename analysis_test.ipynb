{
 "cells": [
  {
   "cell_type": "code",
   "execution_count": 3,
   "metadata": {},
   "outputs": [
    {
     "name": "stdout",
     "output_type": "stream",
     "text": [
      "[Host:Host 0, Host:Host 1]\n",
      "Metrics                                       Values\n",
      "-----------------------------------------  ---------\n",
      "Number of hosts                             3\n",
      "Risk                                       20\n",
      "Cost                                        4\n",
      "Mean of attack path lengths                 1.5\n",
      "Mode of attack path lengths                 2\n",
      "Standard Deviation of attack path lengths   0.707107\n",
      "Shortest attack path length                 1\n",
      "Return on Attack                            5\n",
      "Density                                     0.5\n",
      "Probability of attack success               0.6\n"
     ]
    }
   ],
   "source": [
    "# 3 个 node 的情况\n",
    "# attacker tree 默认\n",
    "# attacker->node->target\n",
    "# attacker->target\n",
    "\n",
    "import harmat as hm\n",
    "\n",
    "h = hm.Harm()\n",
    "\n",
    "h.top_layer = hm.AttackGraph()\n",
    "\n",
    "hosts = [hm.Host(\"Host {}\".format(i)) for i in range(2)]\n",
    "print(hosts)\n",
    "\n",
    "for host in hosts:\n",
    "    host.lower_layer = hm.AttackTree()\n",
    "    vulnerability1 = hm.Vulnerability('CVE-0000', values = {\n",
    "        'risk' : 10,\n",
    "        'cost' : 4,\n",
    "        'probability' : 0.5,\n",
    "        'impact' : 12\n",
    "    })\n",
    "    vulnerability2 = hm.Vulnerability('CVE-0001', values = {\n",
    "        'risk' : 1,\n",
    "        'cost' : 5,\n",
    "        'probability' : 0.2,\n",
    "        'impact' : 2\n",
    "    })\n",
    "    host.lower_layer.basic_at([vulnerability1, vulnerability2])\n",
    "    \n",
    "attacker = hm.Attacker() \n",
    "\n",
    "h[0].add_edge(attacker, hosts[0]) \n",
    "h[0].add_edge(hosts[0], hosts[1])\n",
    "h[0].add_edge(attacker, hosts[1]) \n",
    "\n",
    "h[0].source = attacker\n",
    "h[0].target = hosts[1]\n",
    "\n",
    "h.flowup()\n",
    "\n",
    "hm.HarmSummary(h).show()"
   ]
  },
  {
   "cell_type": "code",
   "execution_count": 13,
   "metadata": {},
   "outputs": [
    {
     "name": "stdout",
     "output_type": "stream",
     "text": [
      "Metrics                                      Values\n",
      "-----------------------------------------  --------\n",
      "Number of hosts                            3\n",
      "Risk                                       2\n",
      "Cost                                       1\n",
      "Mean of attack path lengths                1.5\n",
      "Mode of attack path lengths                2\n",
      "Standard Deviation of attack path lengths  0.707107\n",
      "Shortest attack path length                1\n",
      "Return on Attack                           2\n",
      "Density                                    0.5\n",
      "Probability of attack success              1\n"
     ]
    }
   ],
   "source": [
    "# 3 个 node 的情况\n",
    "\n",
    "import harmat as hm\n",
    "h = hm.Harm()\n",
    "h.top_layer = hm.AttackGraph()\n",
    "\n",
    "hosts = [hm.Host(\"Host {}\".format(i)) for i in range(2)]\n",
    "\n",
    "for host in hosts:\n",
    "    host.lower_layer = hm.AttackTree()\n",
    "    vulnerability1 = hm.Vulnerability('CVE-0000', values = {\n",
    "        'risk' : 4,\n",
    "        'cost' : 2,\n",
    "        'probability' : 0.4,\n",
    "        'impact' : 10\n",
    "    })\n",
    "    # host.lower_layer.basic_at([vulnerability1])\n",
    "    \n",
    "attacker = hm.Attacker() \n",
    "\n",
    "h[0].add_edge(attacker, hosts[0]) \n",
    "h[0].add_edge(hosts[0], hosts[1])\n",
    "h[0].add_edge(attacker, hosts[1]) \n",
    "\n",
    "h[0].source = attacker\n",
    "h[0].target = hosts[1]\n",
    "\n",
    "h.flowup()\n",
    "\n",
    "hm.HarmSummary(h).show()"
   ]
  },
  {
   "cell_type": "code",
   "execution_count": 6,
   "metadata": {},
   "outputs": [
    {
     "name": "stdout",
     "output_type": "stream",
     "text": [
      "Metrics                                      Values\n",
      "-----------------------------------------  --------\n",
      "Number of hosts                                 2\n",
      "Risk                                            1\n",
      "Cost                                            1\n",
      "Mean of attack path lengths                     1\n",
      "Mode of attack path lengths                     1\n",
      "Standard Deviation of attack path lengths       0\n",
      "Shortest attack path length                     1\n",
      "Return on Attack                                1\n",
      "Density                                         0.5\n",
      "Probability of attack success                   1\n"
     ]
    }
   ],
   "source": [
    "# attacker - > host\n",
    "# 没有设置attack tree\n",
    "\n",
    "import harmat as hm\n",
    "h = hm.Harm()\n",
    "h.top_layer = hm.AttackGraph()\n",
    "\n",
    "hosts = [hm.Host(\"Host {}\".format(i)) for i in range(1)]\n",
    "\n",
    "attacker = hm.Attacker() \n",
    "\n",
    "h[0].add_edge(attacker, hosts[0]) \n",
    "\n",
    "h[0].source = attacker\n",
    "h[0].target = hosts[0]\n",
    "\n",
    "# h.flowup()\n",
    "\n",
    "hm.HarmSummary(h).show()\n"
   ]
  },
  {
   "cell_type": "code",
   "execution_count": 14,
   "metadata": {},
   "outputs": [
    {
     "name": "stdout",
     "output_type": "stream",
     "text": [
      "Metrics                                      Values\n",
      "-----------------------------------------  --------\n",
      "Number of hosts                                 2\n",
      "Risk                                            1\n",
      "Cost                                            1\n",
      "Mean of attack path lengths                     1\n",
      "Mode of attack path lengths                     1\n",
      "Standard Deviation of attack path lengths       0\n",
      "Shortest attack path length                     1\n",
      "Return on Attack                                1\n",
      "Density                                         0.5\n",
      "Probability of attack success                   1\n"
     ]
    }
   ],
   "source": [
    "# attacker->target\n",
    "\n",
    "import harmat as hm\n",
    "h = hm.Harm()\n",
    "h.top_layer = hm.AttackGraph()\n",
    "\n",
    "hosts = [hm.Host(\"Host {}\".format(i)) for i in range(1)]\n",
    "\n",
    "for host in hosts:\n",
    "    host.lower_layer = hm.AttackTree()\n",
    "    vulnerability1 = hm.Vulnerability('CVE-0000', values = {\n",
    "        'risk' : 4,\n",
    "        'cost' : 2,\n",
    "        'probability' : 0.4,\n",
    "        'impact' : 10\n",
    "    })\n",
    "    # host.lower_layer.basic_at([vulnerability1])\n",
    "    \n",
    "attacker = hm.Attacker() \n",
    "\n",
    "h[0].add_edge(attacker, hosts[0]) \n",
    "\n",
    "h[0].source = attacker\n",
    "h[0].target = hosts[0]\n",
    "\n",
    "h.flowup()\n",
    "\n",
    "hm.HarmSummary(h).show()\n",
    "\n",
    "# 没有连接root\n",
    "# Metrics                                      Values\n",
    "# -----------------------------------------  --------\n",
    "# Number of hosts                                 2\n",
    "# Risk                                            1\n",
    "# Cost                                            1\n",
    "# Mean of attack path lengths                     1\n",
    "# Mode of attack path lengths                     1\n",
    "# Standard Deviation of attack path lengths       0\n",
    "# Shortest attack path length                     1\n",
    "# Return on Attack                                1\n",
    "# Density                                         0.5\n",
    "# Probability of attack success                   1"
   ]
  }
 ],
 "metadata": {
  "kernelspec": {
   "display_name": "Python 3",
   "language": "python",
   "name": "python3"
  },
  "language_info": {
   "codemirror_mode": {
    "name": "ipython",
    "version": 3
   },
   "file_extension": ".py",
   "mimetype": "text/x-python",
   "name": "python",
   "nbconvert_exporter": "python",
   "pygments_lexer": "ipython3",
   "version": "3.7.5"
  }
 },
 "nbformat": 4,
 "nbformat_minor": 2
}
